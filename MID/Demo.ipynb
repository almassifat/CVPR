{
  "nbformat": 4,
  "nbformat_minor": 0,
  "metadata": {
    "colab": {
      "provenance": []
    },
    "kernelspec": {
      "name": "python3",
      "display_name": "Python 3"
    },
    "language_info": {
      "name": "python"
    }
  },
  "cells": [
    {
      "cell_type": "code",
      "metadata": {
        "colab": {
          "base_uri": "https://localhost:8080/"
        },
        "id": "66f57368",
        "outputId": "1d280529-26d6-4b25-ac7f-80147247b6aa"
      },
      "source": [
        "from google.colab import drive\n",
        "drive.mount('/content/drive')"
      ],
      "execution_count": null,
      "outputs": [
        {
          "output_type": "stream",
          "name": "stdout",
          "text": [
            "Drive already mounted at /content/drive; to attempt to forcibly remount, call drive.mount(\"/content/drive\", force_remount=True).\n"
          ]
        }
      ]
    },
    {
      "cell_type": "code",
      "metadata": {
        "colab": {
          "base_uri": "https://localhost:8080/"
        },
        "id": "518670ef",
        "outputId": "11df1555-4346-48b6-cc98-50268eb043f7"
      },
      "source": [
        "from tensorflow.keras.models import load_model\n",
        "\n",
        "# Replace this path with the actual path to your model file on Google Drive\n",
        "model_path = '/content/drive/MyDrive/mnist_model.h5'\n",
        "model = load_model(model_path)"
      ],
      "execution_count": null,
      "outputs": [
        {
          "output_type": "stream",
          "name": "stderr",
          "text": [
            "WARNING:absl:Compiled the loaded model, but the compiled metrics have yet to be built. `model.compile_metrics` will be empty until you train or evaluate the model.\n"
          ]
        }
      ]
    },
    {
      "cell_type": "code",
      "source": [
        "from google.colab.output import eval_js\n",
        "from IPython.display import display, Javascript\n",
        "import cv2\n",
        "import numpy as np\n",
        "from PIL import Image\n",
        "import io\n",
        "import matplotlib.pyplot as plt\n",
        "import base64\n",
        "\n",
        "# Helper to convert JS image data to OpenCV format\n",
        "def js_to_image(js_reply):\n",
        "    image_bytes = io.BytesIO(base64.b64decode(js_reply.split(',')[1]))\n",
        "    img = Image.open(image_bytes)\n",
        "    return cv2.cvtColor(np.array(img), cv2.COLOR_RGB2BGR)\n",
        "\n",
        "# Webcam capture and prediction\n",
        "def capture_and_predict(model):\n",
        "    js = Javascript('''\n",
        "      async function takePhoto() {\n",
        "        const div = document.createElement('div');\n",
        "        const capture = document.createElement('button');\n",
        "        capture.textContent = 'Capture';\n",
        "        div.appendChild(capture);\n",
        "        const video = document.createElement('video');\n",
        "        video.style.display = 'block';\n",
        "        const stream = await navigator.mediaDevices.getUserMedia({video: true});\n",
        "        document.body.appendChild(div);\n",
        "        div.appendChild(video);\n",
        "        video.srcObject = stream;\n",
        "        await video.play();\n",
        "        google.colab.output.setIframeHeight(document.documentElement.scrollHeight, true);\n",
        "        await new Promise((resolve) => capture.onclick = resolve);\n",
        "        const canvas = document.createElement('canvas');\n",
        "        canvas.width = video.videoWidth;\n",
        "        canvas.height = video.videoHeight;\n",
        "        canvas.getContext('2d').drawImage(video, 0, 0);\n",
        "        stream.getVideoTracks()[0].stop();\n",
        "        div.remove();\n",
        "        return canvas.toDataURL('image/jpeg', 0.8);\n",
        "      }\n",
        "    ''')\n",
        "    display(js)\n",
        "\n",
        "    try:\n",
        "        data = eval_js('takePhoto()')\n",
        "        img = js_to_image(data)\n",
        "\n",
        "        # Convert to grayscale and resize to 28x28\n",
        "        gray = cv2.cvtColor(img, cv2.COLOR_BGR2GRAY)\n",
        "        resized = cv2.resize(gray, (28, 28))\n",
        "        normalized = resized / 255.0\n",
        "        reshaped = normalized.reshape(1, 784)\n",
        "\n",
        "        # Predict\n",
        "        predictions = model.predict(reshaped)\n",
        "        prediction = np.argmax(predictions)\n",
        "        confidence = predictions[0][prediction]\n",
        "\n",
        "        # Show captured and processed image\n",
        "        plt.figure(figsize=(3,3))\n",
        "        plt.imshow(resized, cmap='gray_r')\n",
        "        plt.xticks([])\n",
        "        plt.yticks([])\n",
        "        plt.xlabel(f\"Prediction = {prediction} (Confidence = {confidence:.2f})\", color='b')\n",
        "        plt.show()\n",
        "\n",
        "    except Exception as e:\n",
        "        print(\"not number\")\n",
        "\n"
      ],
      "metadata": {
        "id": "6EgJhjdST1e1"
      },
      "execution_count": null,
      "outputs": []
    },
    {
      "cell_type": "code",
      "source": [
        "capture_and_predict(model)"
      ],
      "metadata": {
        "colab": {
          "base_uri": "https://localhost:8080/",
          "height": 304
        },
        "id": "rRmozBSdT4jU",
        "outputId": "94af604a-a33e-4714-9359-521cc9b50366"
      },
      "execution_count": null,
      "outputs": [
        {
          "output_type": "display_data",
          "data": {
            "text/plain": [
              "<IPython.core.display.Javascript object>"
            ],
            "application/javascript": [
              "\n",
              "      async function takePhoto() {\n",
              "        const div = document.createElement('div');\n",
              "        const capture = document.createElement('button');\n",
              "        capture.textContent = 'Capture';\n",
              "        div.appendChild(capture);\n",
              "        const video = document.createElement('video');\n",
              "        video.style.display = 'block';\n",
              "        const stream = await navigator.mediaDevices.getUserMedia({video: true});\n",
              "        document.body.appendChild(div);\n",
              "        div.appendChild(video);\n",
              "        video.srcObject = stream;\n",
              "        await video.play();\n",
              "        google.colab.output.setIframeHeight(document.documentElement.scrollHeight, true);\n",
              "        await new Promise((resolve) => capture.onclick = resolve);\n",
              "        const canvas = document.createElement('canvas');\n",
              "        canvas.width = video.videoWidth;\n",
              "        canvas.height = video.videoHeight;\n",
              "        canvas.getContext('2d').drawImage(video, 0, 0);\n",
              "        stream.getVideoTracks()[0].stop();\n",
              "        div.remove();\n",
              "        return canvas.toDataURL('image/jpeg', 0.8);\n",
              "      }\n",
              "    "
            ]
          },
          "metadata": {}
        },
        {
          "output_type": "stream",
          "name": "stdout",
          "text": [
            "\u001b[1m1/1\u001b[0m \u001b[32m━━━━━━━━━━━━━━━━━━━━\u001b[0m\u001b[37m\u001b[0m \u001b[1m0s\u001b[0m 65ms/step\n"
          ]
        },
        {
          "output_type": "display_data",
          "data": {
            "text/plain": [
              "<Figure size 300x300 with 1 Axes>"
            ],
            "image/png": "[encoded data removed]"
          },
          "metadata": {}
        }
      ]
    },
    {
      "cell_type": "markdown",
      "metadata": {
        "id": "9cf5bc85"
      },
      "source": [
        "First, mount your Google Drive."
      ]
    },
    {
      "cell_type": "markdown",
      "metadata": {
        "id": "b3852d63"
      },
      "source": [
        "Now you can load the model by providing the correct path to the `.h5` file on your Google Drive. Replace `/content/drive/My Drive/path/to/your/model/mnist_model.h5` with the actual path to your model file."
      ]
    }
  ]
}
